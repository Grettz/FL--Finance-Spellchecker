{
 "metadata": {
  "language_info": {
   "codemirror_mode": {
    "name": "ipython",
    "version": 3
   },
   "file_extension": ".py",
   "mimetype": "text/x-python",
   "name": "python",
   "nbconvert_exporter": "python",
   "pygments_lexer": "ipython3",
   "version": "3.6.2-final"
  },
  "orig_nbformat": 2,
  "kernelspec": {
   "name": "python3",
   "display_name": "Python 3.6.2 64-bit",
   "metadata": {
    "interpreter": {
     "hash": "7d5c248c2333ae2753926fe6ba396c838bc55ed5ca5ce3b82f19b69acc92f580"
    }
   }
  }
 },
 "nbformat": 4,
 "nbformat_minor": 2,
 "cells": [
  {
   "source": [
    "# Spell Check Text - No Auto-Correct & No Suggestions\n",
    "# Performs the fastest at around 1,000 sentences per second\n",
    "import spellchecker as sc\n",
    "sc = sc.SpellChecker()\n",
    "sc.spell_check_text(auto=False, suggest=False)"
   ],
   "cell_type": "code",
   "metadata": {
    "tags": []
   },
   "execution_count": null,
   "outputs": []
  },
  {
   "cell_type": "code",
   "execution_count": null,
   "metadata": {},
   "outputs": [],
   "source": [
    "# Spell Check Text - No Auto-Correct\n",
    "# Performs at around 100 sentences per second\n",
    "import spellchecker as sc\n",
    "sc = sc.SpellChecker()\n",
    "sc.spell_check_text(auto=False)"
   ]
  },
  {
   "cell_type": "code",
   "execution_count": null,
   "metadata": {},
   "outputs": [],
   "source": [
    "# Spell Check Text - Full\n",
    "# Performs at around 5 sentences per second\n",
    "import spellchecker as sc\n",
    "sc = sc.SpellChecker()\n",
    "sc.spell_check_text()"
   ]
  }
 ]
}